{
  "nbformat": 4,
  "nbformat_minor": 0,
  "metadata": {
    "colab": {
      "name": "02-MNIST.ipynb",
      "provenance": [],
      "collapsed_sections": [],
      "authorship_tag": "ABX9TyMrynplL1IQuncODsyCyHG6"
    },
    "kernelspec": {
      "name": "python3",
      "display_name": "Python 3"
    },
    "accelerator": "GPU"
  },
  "cells": [
    {
      "cell_type": "markdown",
      "metadata": {
        "id": "MgReMBjU_1CV",
        "colab_type": "text"
      },
      "source": [
        "# ABOUT \n",
        "\n",
        "The MNIST database of handwritten digits, available from this page, has a training set of 60,000 examples, and a test set of 10,000 examples. It is a subset of a larger set available from NIST. The digits have been size-normalized and centered in a fixed-size image."
      ]
    },
    {
      "cell_type": "markdown",
      "metadata": {
        "id": "_c3nShNOuccZ",
        "colab_type": "text"
      },
      "source": [
        "**Importing all the essential libraries**"
      ]
    },
    {
      "cell_type": "code",
      "metadata": {
        "id": "FdLEVH9JteVy",
        "colab_type": "code",
        "colab": {
          "base_uri": "https://localhost:8080/",
          "height": 34
        },
        "outputId": "71d5d448-c0c6-4138-912b-3ead89eb179f"
      },
      "source": [
        "import numpy as np\n",
        "import pandas as pd\n",
        "import tensorflow as tf\n",
        "from tensorflow.keras.models import Sequential\n",
        "from tensorflow.keras.layers import Dense,BatchNormalization,Dropout\n",
        "from keras.utils import np_utils"
      ],
      "execution_count": 1,
      "outputs": [
        {
          "output_type": "stream",
          "text": [
            "Using TensorFlow backend.\n"
          ],
          "name": "stderr"
        }
      ]
    },
    {
      "cell_type": "markdown",
      "metadata": {
        "id": "ZmNGf_d_ukwv",
        "colab_type": "text"
      },
      "source": [
        "**Importing the dataset**"
      ]
    },
    {
      "cell_type": "code",
      "metadata": {
        "id": "yLTeI40Euh-K",
        "colab_type": "code",
        "colab": {}
      },
      "source": [
        "from tensorflow.keras.datasets import mnist\n",
        "(X_train,y_train),(X_test,y_test) = mnist.load_data()"
      ],
      "execution_count": 0,
      "outputs": []
    },
    {
      "cell_type": "markdown",
      "metadata": {
        "id": "bndON6c3whNG",
        "colab_type": "text"
      },
      "source": [
        "**Checking how an image looks like**"
      ]
    },
    {
      "cell_type": "code",
      "metadata": {
        "id": "vBfkPG9gwmAr",
        "colab_type": "code",
        "colab": {}
      },
      "source": [
        "import cv2\n",
        "from google.colab.patches import cv2_imshow"
      ],
      "execution_count": 0,
      "outputs": []
    },
    {
      "cell_type": "code",
      "metadata": {
        "id": "SopA-uL8w9TX",
        "colab_type": "code",
        "colab": {
          "base_uri": "https://localhost:8080/",
          "height": 117
        },
        "outputId": "3a171d70-10ad-4328-8e7e-b7d798345adb"
      },
      "source": [
        "cv2_imshow(cv2.resize(X_train[20],(100,100)))"
      ],
      "execution_count": 4,
      "outputs": [
        {
          "output_type": "display_data",
          "data": {
            "image/png": "[encoded data removed]",
            "text/plain": [
              "<PIL.Image.Image image mode=L size=100x100 at 0x7F1790BDDA90>"
            ]
          },
          "metadata": {
            "tags": []
          }
        }
      ]
    },
    {
      "cell_type": "code",
      "metadata": {
        "id": "UPNoISD6u5cj",
        "colab_type": "code",
        "colab": {
          "base_uri": "https://localhost:8080/",
          "height": 34
        },
        "outputId": "006caf5f-6e36-49fb-9a32-7c6f48569b1b"
      },
      "source": [
        "X_train.shape"
      ],
      "execution_count": 5,
      "outputs": [
        {
          "output_type": "execute_result",
          "data": {
            "text/plain": [
              "(60000, 28, 28)"
            ]
          },
          "metadata": {
            "tags": []
          },
          "execution_count": 5
        }
      ]
    },
    {
      "cell_type": "code",
      "metadata": {
        "id": "DrwktYcou-OQ",
        "colab_type": "code",
        "colab": {
          "base_uri": "https://localhost:8080/",
          "height": 34
        },
        "outputId": "16be1895-8b7d-4459-aedd-02a1660a3240"
      },
      "source": [
        "y_train.shape"
      ],
      "execution_count": 6,
      "outputs": [
        {
          "output_type": "execute_result",
          "data": {
            "text/plain": [
              "(60000,)"
            ]
          },
          "metadata": {
            "tags": []
          },
          "execution_count": 6
        }
      ]
    },
    {
      "cell_type": "code",
      "metadata": {
        "id": "kZv5t7D4vAqR",
        "colab_type": "code",
        "colab": {
          "base_uri": "https://localhost:8080/",
          "height": 34
        },
        "outputId": "f861b316-d679-40fb-f198-108965587040"
      },
      "source": [
        "set(y_train)"
      ],
      "execution_count": 7,
      "outputs": [
        {
          "output_type": "execute_result",
          "data": {
            "text/plain": [
              "{0, 1, 2, 3, 4, 5, 6, 7, 8, 9}"
            ]
          },
          "metadata": {
            "tags": []
          },
          "execution_count": 7
        }
      ]
    },
    {
      "cell_type": "markdown",
      "metadata": {
        "id": "V3M2VMDBvGJQ",
        "colab_type": "text"
      },
      "source": [
        "As we can see,it is a multiclass classification problem"
      ]
    },
    {
      "cell_type": "code",
      "metadata": {
        "id": "JEpKcul4vCiP",
        "colab_type": "code",
        "colab": {}
      },
      "source": [
        "#reshaping the values\n",
        "X_train = X_train.reshape(X_train.shape[0],X_train.shape[1]*X_train.shape[2]) #(60000,28*28)\n",
        "X_test = X_test.reshape(X_test.shape[0],X_test.shape[1]*X_test.shape[2]) #(10000,28*28)\n",
        "\n",
        "#one hot encoding the target variables\n",
        "y_train = np_utils.to_categorical(y_train,num_classes=10)\n",
        "y_test = np_utils.to_categorical(y_test,num_classes=10)"
      ],
      "execution_count": 0,
      "outputs": []
    },
    {
      "cell_type": "code",
      "metadata": {
        "id": "DrTXFF3wwHVP",
        "colab_type": "code",
        "colab": {
          "base_uri": "https://localhost:8080/",
          "height": 34
        },
        "outputId": "3c903f21-7727-48c0-b107-6e29ea402ac0"
      },
      "source": [
        "X_train.shape"
      ],
      "execution_count": 9,
      "outputs": [
        {
          "output_type": "execute_result",
          "data": {
            "text/plain": [
              "(60000, 784)"
            ]
          },
          "metadata": {
            "tags": []
          },
          "execution_count": 9
        }
      ]
    },
    {
      "cell_type": "code",
      "metadata": {
        "id": "ZldUCxuHwI6v",
        "colab_type": "code",
        "colab": {
          "base_uri": "https://localhost:8080/",
          "height": 34
        },
        "outputId": "8f7616de-e448-474a-f30f-b9d56331694e"
      },
      "source": [
        "y_train[0]"
      ],
      "execution_count": 10,
      "outputs": [
        {
          "output_type": "execute_result",
          "data": {
            "text/plain": [
              "array([0., 0., 0., 0., 0., 1., 0., 0., 0., 0.], dtype=float32)"
            ]
          },
          "metadata": {
            "tags": []
          },
          "execution_count": 10
        }
      ]
    },
    {
      "cell_type": "markdown",
      "metadata": {
        "id": "P0EP-umWxqUH",
        "colab_type": "text"
      },
      "source": [
        "**Building neural network**"
      ]
    },
    {
      "cell_type": "code",
      "metadata": {
        "id": "X090p4PSwLi0",
        "colab_type": "code",
        "colab": {}
      },
      "source": [
        "#Initializing the model\n",
        "model = Sequential()\n",
        "\n",
        "#adding first layer \n",
        "#Dense is the layer used for ANN ,32 outputs from this layer ,input_dim = no.of predictors,and activation function to be used is relu\n",
        "model.add(Dense(32,input_shape=(X_train.shape[1],)))\n",
        "#Batch Normalization to reduce variance and speed up the process\n",
        "model.add(BatchNormalization())\n",
        "#Regularization\n",
        "model.add(Dropout(0.1))\n",
        "\n",
        "#adding second layer\n",
        "model.add(Dense(128,activation='relu'))\n",
        "model.add(BatchNormalization())\n",
        "model.add(Dropout(0.1))\n",
        "\n",
        "#adding third layer\n",
        "model.add(Dense(64,activation='relu'))\n",
        "model.add(BatchNormalization())\n",
        "model.add(Dropout(0.1))\n",
        "\n",
        "#adding output layer\n",
        "model.add(Dense(10,activation='softmax'))"
      ],
      "execution_count": 0,
      "outputs": []
    },
    {
      "cell_type": "code",
      "metadata": {
        "id": "Jkwobv1-8JNd",
        "colab_type": "code",
        "colab": {}
      },
      "source": [
        "model.compile(optimizer='adam',loss = 'categorical_crossentropy',metrics = ['accuracy'])"
      ],
      "execution_count": 0,
      "outputs": []
    },
    {
      "cell_type": "code",
      "metadata": {
        "id": "lcBqAUPL8bks",
        "colab_type": "code",
        "colab": {
          "base_uri": "https://localhost:8080/",
          "height": 720
        },
        "outputId": "6004e444-3bad-40af-93c8-ee55b14fdeb0"
      },
      "source": [
        "history = model.fit(X_train,y_train,batch_size= 600,epochs = 20)"
      ],
      "execution_count": 13,
      "outputs": [
        {
          "output_type": "stream",
          "text": [
            "Epoch 1/20\n",
            "100/100 [==============================] - 0s 3ms/step - loss: 0.6758 - accuracy: 0.7907\n",
            "Epoch 2/20\n",
            "100/100 [==============================] - 0s 3ms/step - loss: 0.2898 - accuracy: 0.9142\n",
            "Epoch 3/20\n",
            "100/100 [==============================] - 0s 3ms/step - loss: 0.2311 - accuracy: 0.9297\n",
            "Epoch 4/20\n",
            "100/100 [==============================] - 0s 3ms/step - loss: 0.1994 - accuracy: 0.9391\n",
            "Epoch 5/20\n",
            "100/100 [==============================] - 0s 3ms/step - loss: 0.1770 - accuracy: 0.9459\n",
            "Epoch 6/20\n",
            "100/100 [==============================] - 0s 3ms/step - loss: 0.1605 - accuracy: 0.9508\n",
            "Epoch 7/20\n",
            "100/100 [==============================] - 0s 3ms/step - loss: 0.1480 - accuracy: 0.9538\n",
            "Epoch 8/20\n",
            "100/100 [==============================] - 0s 3ms/step - loss: 0.1368 - accuracy: 0.9572\n",
            "Epoch 9/20\n",
            "100/100 [==============================] - 0s 3ms/step - loss: 0.1279 - accuracy: 0.9603\n",
            "Epoch 10/20\n",
            "100/100 [==============================] - 0s 3ms/step - loss: 0.1215 - accuracy: 0.9616\n",
            "Epoch 11/20\n",
            "100/100 [==============================] - 0s 3ms/step - loss: 0.1144 - accuracy: 0.9630\n",
            "Epoch 12/20\n",
            "100/100 [==============================] - 0s 3ms/step - loss: 0.1084 - accuracy: 0.9662\n",
            "Epoch 13/20\n",
            "100/100 [==============================] - 0s 3ms/step - loss: 0.1046 - accuracy: 0.9657\n",
            "Epoch 14/20\n",
            "100/100 [==============================] - 0s 3ms/step - loss: 0.1027 - accuracy: 0.9665\n",
            "Epoch 15/20\n",
            "100/100 [==============================] - 0s 3ms/step - loss: 0.1003 - accuracy: 0.9680\n",
            "Epoch 16/20\n",
            "100/100 [==============================] - 0s 3ms/step - loss: 0.0957 - accuracy: 0.9691\n",
            "Epoch 17/20\n",
            "100/100 [==============================] - 0s 3ms/step - loss: 0.0929 - accuracy: 0.9707\n",
            "Epoch 18/20\n",
            "100/100 [==============================] - 0s 3ms/step - loss: 0.0913 - accuracy: 0.9700\n",
            "Epoch 19/20\n",
            "100/100 [==============================] - 0s 3ms/step - loss: 0.0874 - accuracy: 0.9718\n",
            "Epoch 20/20\n",
            "100/100 [==============================] - 0s 3ms/step - loss: 0.0833 - accuracy: 0.9734\n"
          ],
          "name": "stdout"
        }
      ]
    },
    {
      "cell_type": "code",
      "metadata": {
        "id": "tPmkF2YJ8oiH",
        "colab_type": "code",
        "colab": {
          "base_uri": "https://localhost:8080/",
          "height": 34
        },
        "outputId": "ee07c991-86e4-4dad-b722-aeed4fffb7d0"
      },
      "source": [
        "_,accuracy = model.evaluate(X_test,y_test)"
      ],
      "execution_count": 14,
      "outputs": [
        {
          "output_type": "stream",
          "text": [
            "313/313 [==============================] - 1s 2ms/step - loss: 0.0863 - accuracy: 0.9732\n"
          ],
          "name": "stdout"
        }
      ]
    },
    {
      "cell_type": "code",
      "metadata": {
        "id": "T0Ff-tLT9ygM",
        "colab_type": "code",
        "colab": {
          "base_uri": "https://localhost:8080/",
          "height": 34
        },
        "outputId": "22f854a4-f5c2-4f0f-bafd-5585704fd1be"
      },
      "source": [
        "accuracy"
      ],
      "execution_count": 15,
      "outputs": [
        {
          "output_type": "execute_result",
          "data": {
            "text/plain": [
              "0.9732000231742859"
            ]
          },
          "metadata": {
            "tags": []
          },
          "execution_count": 15
        }
      ]
    },
    {
      "cell_type": "code",
      "metadata": {
        "id": "NVxujgRC9zmO",
        "colab_type": "code",
        "colab": {}
      },
      "source": [
        ""
      ],
      "execution_count": 0,
      "outputs": []
    }
  ]
}